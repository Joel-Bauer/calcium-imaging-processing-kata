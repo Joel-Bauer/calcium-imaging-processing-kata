{
 "metadata": {
  "language_info": {
   "codemirror_mode": {
    "name": "ipython",
    "version": 3
   },
   "file_extension": ".py",
   "mimetype": "text/x-python",
   "name": "python",
   "nbconvert_exporter": "python",
   "pygments_lexer": "ipython3",
   "version": "3.8.3-final"
  },
  "orig_nbformat": 2,
  "kernelspec": {
   "name": "python3",
   "display_name": "Python 3",
   "language": "python"
  }
 },
 "nbformat": 4,
 "nbformat_minor": 2,
 "cells": [
  {
   "cell_type": "code",
   "execution_count": 1,
   "metadata": {},
   "outputs": [
    {
     "output_type": "stream",
     "name": "stderr",
     "text": [
      "D:\\miniconda\\lib\\site-packages\\numpy\\_distributor_init.py:30: UserWarning: loaded more than 1 DLL from .libs:\nD:\\miniconda\\lib\\site-packages\\numpy\\.libs\\libopenblas.JPIJNSWNNAN3CE6LLI5FWSPHUT2VXMTH.gfortran-win_amd64.dll\nD:\\miniconda\\lib\\site-packages\\numpy\\.libs\\libopenblas.PYQHXLVVQ7VESDPUVUADXEVJOBGHJPAY.gfortran-win_amd64.dll\n  warnings.warn(\"loaded more than 1 DLL from .libs:\"\n"
     ]
    }
   ],
   "source": [
    "from ipywidgets import interact, IntSlider, IntRangeSlider, Play, Dropdown, fixed\n",
    "import tifffile\n",
    "import matplotlib.pyplot as plt\n",
    "import matplotlib.patches as patches\n",
    "from mpl_interactions import ipyplot as iplt\n",
    "\n",
    "from pathlib import Path\n",
    "import numpy as np\n",
    "import cv2"
   ]
  },
  {
   "cell_type": "code",
   "execution_count": 2,
   "metadata": {},
   "outputs": [
    {
     "output_type": "execute_result",
     "data": {
      "text/plain": [
       "(2250, 498, 467)"
      ]
     },
     "metadata": {},
     "execution_count": 2
    }
   ],
   "source": [
    "files = Path(\"../../data/raw\").glob(\"*.tif\")\n",
    "tiffs = tifffile.TiffSequence(files)\n",
    "mov = tiffs.asarray()\n",
    "mov.shape"
   ]
  },
  {
   "cell_type": "code",
   "execution_count": 3,
   "metadata": {},
   "outputs": [],
   "source": [
    "window = cv2.namedWindow('img', cv2.WINDOW_NORMAL)"
   ]
  },
  {
   "cell_type": "code",
   "execution_count": 12,
   "metadata": {},
   "outputs": [
    {
     "output_type": "execute_result",
     "data": {
      "text/plain": [
       "-1"
      ]
     },
     "metadata": {},
     "execution_count": 12
    }
   ],
   "source": [
    "cv2.imshow(\"img\", (mov[0] // 30).astype(np.uint8))\n",
    "cv2.waitKey(1)"
   ]
  },
  {
   "cell_type": "code",
   "execution_count": 16,
   "metadata": {},
   "outputs": [
    {
     "output_type": "stream",
     "text": [
      "\u001b[1;31mInit signature:\u001b[0m \u001b[0mPlay\u001b[0m\u001b[1;33m(\u001b[0m\u001b[1;33m*\u001b[0m\u001b[0margs\u001b[0m\u001b[1;33m,\u001b[0m \u001b[1;33m**\u001b[0m\u001b[0mkwargs\u001b[0m\u001b[1;33m)\u001b[0m\u001b[1;33m\u001b[0m\u001b[1;33m\u001b[0m\u001b[0m\n",
      "\u001b[1;31mSource:\u001b[0m        \n",
      "\u001b[1;32mclass\u001b[0m \u001b[0mPlay\u001b[0m\u001b[1;33m(\u001b[0m\u001b[0m_BoundedInt\u001b[0m\u001b[1;33m)\u001b[0m\u001b[1;33m:\u001b[0m\u001b[1;33m\n",
      "\u001b[0m    \u001b[1;34m\"\"\"Play/repeat buttons to step through values automatically, and optionally loop.\n",
      "    \"\"\"\u001b[0m\u001b[1;33m\n",
      "\u001b[0m    \u001b[0minterval\u001b[0m \u001b[1;33m=\u001b[0m \u001b[0mCInt\u001b[0m\u001b[1;33m(\u001b[0m\u001b[1;36m100\u001b[0m\u001b[1;33m,\u001b[0m \u001b[0mhelp\u001b[0m\u001b[1;33m=\u001b[0m\u001b[1;34m\"The maximum value for the play control.\"\u001b[0m\u001b[1;33m)\u001b[0m\u001b[1;33m.\u001b[0m\u001b[0mtag\u001b[0m\u001b[1;33m(\u001b[0m\u001b[0msync\u001b[0m\u001b[1;33m=\u001b[0m\u001b[1;32mTrue\u001b[0m\u001b[1;33m)\u001b[0m\u001b[1;33m\n",
      "\u001b[0m    \u001b[0mstep\u001b[0m \u001b[1;33m=\u001b[0m \u001b[0mCInt\u001b[0m\u001b[1;33m(\u001b[0m\u001b[1;36m1\u001b[0m\u001b[1;33m,\u001b[0m \u001b[0mhelp\u001b[0m\u001b[1;33m=\u001b[0m\u001b[1;34m\"Increment step\"\u001b[0m\u001b[1;33m)\u001b[0m\u001b[1;33m.\u001b[0m\u001b[0mtag\u001b[0m\u001b[1;33m(\u001b[0m\u001b[0msync\u001b[0m\u001b[1;33m=\u001b[0m\u001b[1;32mTrue\u001b[0m\u001b[1;33m)\u001b[0m\u001b[1;33m\n",
      "\u001b[0m    \u001b[0mdisabled\u001b[0m \u001b[1;33m=\u001b[0m \u001b[0mBool\u001b[0m\u001b[1;33m(\u001b[0m\u001b[1;32mFalse\u001b[0m\u001b[1;33m,\u001b[0m \u001b[0mhelp\u001b[0m\u001b[1;33m=\u001b[0m\u001b[1;34m\"Enable or disable user changes\"\u001b[0m\u001b[1;33m)\u001b[0m\u001b[1;33m.\u001b[0m\u001b[0mtag\u001b[0m\u001b[1;33m(\u001b[0m\u001b[0msync\u001b[0m\u001b[1;33m=\u001b[0m\u001b[1;32mTrue\u001b[0m\u001b[1;33m)\u001b[0m\u001b[1;33m\n",
      "\u001b[0m\u001b[1;33m\n",
      "\u001b[0m    \u001b[0m_view_name\u001b[0m \u001b[1;33m=\u001b[0m \u001b[0mUnicode\u001b[0m\u001b[1;33m(\u001b[0m\u001b[1;34m'PlayView'\u001b[0m\u001b[1;33m)\u001b[0m\u001b[1;33m.\u001b[0m\u001b[0mtag\u001b[0m\u001b[1;33m(\u001b[0m\u001b[0msync\u001b[0m\u001b[1;33m=\u001b[0m\u001b[1;32mTrue\u001b[0m\u001b[1;33m)\u001b[0m\u001b[1;33m\n",
      "\u001b[0m    \u001b[0m_model_name\u001b[0m \u001b[1;33m=\u001b[0m \u001b[0mUnicode\u001b[0m\u001b[1;33m(\u001b[0m\u001b[1;34m'PlayModel'\u001b[0m\u001b[1;33m)\u001b[0m\u001b[1;33m.\u001b[0m\u001b[0mtag\u001b[0m\u001b[1;33m(\u001b[0m\u001b[0msync\u001b[0m\u001b[1;33m=\u001b[0m\u001b[1;32mTrue\u001b[0m\u001b[1;33m)\u001b[0m\u001b[1;33m\n",
      "\u001b[0m\u001b[1;33m\n",
      "\u001b[0m    \u001b[0m_playing\u001b[0m \u001b[1;33m=\u001b[0m \u001b[0mBool\u001b[0m\u001b[1;33m(\u001b[0m\u001b[0mhelp\u001b[0m\u001b[1;33m=\u001b[0m\u001b[1;34m\"Whether the control is currently playing.\"\u001b[0m\u001b[1;33m)\u001b[0m\u001b[1;33m.\u001b[0m\u001b[0mtag\u001b[0m\u001b[1;33m(\u001b[0m\u001b[0msync\u001b[0m\u001b[1;33m=\u001b[0m\u001b[1;32mTrue\u001b[0m\u001b[1;33m)\u001b[0m\u001b[1;33m\n",
      "\u001b[0m    \u001b[0m_repeat\u001b[0m \u001b[1;33m=\u001b[0m \u001b[0mBool\u001b[0m\u001b[1;33m(\u001b[0m\u001b[0mhelp\u001b[0m\u001b[1;33m=\u001b[0m\u001b[1;34m\"Whether the control will repeat in a continous loop.\"\u001b[0m\u001b[1;33m)\u001b[0m\u001b[1;33m.\u001b[0m\u001b[0mtag\u001b[0m\u001b[1;33m(\u001b[0m\u001b[0msync\u001b[0m\u001b[1;33m=\u001b[0m\u001b[1;32mTrue\u001b[0m\u001b[1;33m)\u001b[0m\u001b[1;33m\n",
      "\u001b[0m    \u001b[0mshow_repeat\u001b[0m \u001b[1;33m=\u001b[0m \u001b[0mBool\u001b[0m\u001b[1;33m(\u001b[0m\u001b[1;32mTrue\u001b[0m\u001b[1;33m,\u001b[0m \u001b[0mhelp\u001b[0m\u001b[1;33m=\u001b[0m\u001b[1;34m\"Show the repeat toggle button in the widget.\"\u001b[0m\u001b[1;33m)\u001b[0m\u001b[1;33m.\u001b[0m\u001b[0mtag\u001b[0m\u001b[1;33m(\u001b[0m\u001b[0msync\u001b[0m\u001b[1;33m=\u001b[0m\u001b[1;32mTrue\u001b[0m\u001b[1;33m)\u001b[0m\u001b[1;33m\u001b[0m\u001b[1;33m\u001b[0m\u001b[0m\n",
      "\u001b[1;31mFile:\u001b[0m           d:\\miniconda\\lib\\site-packages\\ipywidgets\\widgets\\widget_int.py\n",
      "\u001b[1;31mType:\u001b[0m           MetaHasTraits\n",
      "\u001b[1;31mSubclasses:\u001b[0m     \n"
     ],
     "name": "stdout"
    }
   ],
   "source": [
    "Play??"
   ]
  },
  {
   "cell_type": "code",
   "execution_count": 14,
   "metadata": {},
   "outputs": [
    {
     "output_type": "display_data",
     "data": {
      "text/plain": "interactive(children=(Play(value=0, description='idx', interval=50, max=2249), IntRangeSlider(value=(0, 8192),…",
      "application/vnd.jupyter.widget-view+json": {
       "version_major": 2,
       "version_minor": 0,
       "model_id": "6cb9f7c59bde4962bdc371c83b373542"
      }
     },
     "metadata": {}
    }
   ],
   "source": [
    "@interact(\n",
    "    idx=Play(value=0, min=0, max=len(mov) - 1, step=1, interval=50), \n",
    "    clim=IntRangeSlider(value=[0, mov.max()], min=0, max=mov.max()),\n",
    "    x=IntSlider(value=20, min=0, max=mov.shape[2] - 11),\n",
    "    y=IntSlider(value=20, min=0, max=mov.shape[1] - 11),\n",
    ")\n",
    "def show_frame(idx, clim, x, y):\n",
    "    cmin, cmax = clim\n",
    "    # fig, (ax1, ax2) = plt.subplots(ncols=2)\n",
    "    # ax1.imshow(mov[idx], vmin=cmin, vmax=cmax);\n",
    "    width, height = 10, 10\n",
    "    x = x - width // 2\n",
    "    y = y - height // 2\n",
    "    cv2.imshow(\"img\", ((mov[idx] - cmin) / cmax * 255).astype(np.uint8))\n",
    "    cv2.waitKey(1)\n",
    "    # cv2.destroyWindow(\"img\")\n",
    "\n",
    "    # rect = patches.Rectangle((x, y), 10, 10, facecolor='none', linewidth=1, edgecolor='r')\n",
    "    # ax1.add_patch(rect)\n",
    "    # roi = mov[:, y - height // 2 : y + height // 2, x - width // 2 : x + width // 2]\n",
    "    # ax2.plot(roi.mean(axis=1).mean(axis=1))\n",
    "    # ax2.vlines([idx], *ax2.get_ylim(), color='red', linewidth=1, linestyle='dotted')"
   ]
  },
  {
   "source": [
    "## Projection"
   ],
   "cell_type": "markdown",
   "metadata": {}
  },
  {
   "cell_type": "code",
   "execution_count": 19,
   "metadata": {},
   "outputs": [
    {
     "output_type": "display_data",
     "data": {
      "text/plain": "interactive(children=(Dropdown(description='aggfun', options=(('None', None), ('mean', <function mean at 0x000…",
      "application/vnd.jupyter.widget-view+json": {
       "version_major": 2,
       "version_minor": 0,
       "model_id": "f86d9c5bfc174849a1ebb471a5e46407"
      }
     },
     "metadata": {}
    }
   ],
   "source": [
    "@interact(\n",
    "    aggfun=[(\"None\", None), (\"mean\", np.mean), ('std', np.std), ('max', np.max), ('p2p', np.ptp), ('min', np.min)],\n",
    "    cmap=['viridis', 'jet', 'gray'],\n",
    "    vlim=IntRangeSlider(value=(0, np.max(mov)), min=0, max=np.max(mov)),\n",
    ")\n",
    "def show_projection(aggfun, cmap, vlim):\n",
    "    frame = aggfun(mov, axis=0) if not aggfun is None else mov[0]\n",
    "    plt.imshow(frame, cmap=cmap, vmin=vlim[0], vmax=vlim[1])\n"
   ]
  },
  {
   "cell_type": "code",
   "execution_count": null,
   "metadata": {},
   "outputs": [],
   "source": []
  }
 ]
}