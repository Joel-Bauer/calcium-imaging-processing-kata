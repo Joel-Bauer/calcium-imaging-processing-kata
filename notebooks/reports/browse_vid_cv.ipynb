{
 "metadata": {
  "language_info": {
   "codemirror_mode": {
    "name": "ipython",
    "version": 3
   },
   "file_extension": ".py",
   "mimetype": "text/x-python",
   "name": "python",
   "nbconvert_exporter": "python",
   "pygments_lexer": "ipython3",
   "version": "3.8.3-final"
  },
  "orig_nbformat": 2,
  "kernelspec": {
   "name": "python3",
   "display_name": "Python 3",
   "language": "python"
  }
 },
 "nbformat": 4,
 "nbformat_minor": 2,
 "cells": [
  {
   "source": [],
   "cell_type": "markdown",
   "metadata": {}
  },
  {
   "cell_type": "code",
   "execution_count": 1,
   "metadata": {},
   "outputs": [
    {
     "output_type": "stream",
     "name": "stderr",
     "text": [
      "D:\\miniconda\\lib\\site-packages\\numpy\\_distributor_init.py:30: UserWarning: loaded more than 1 DLL from .libs:\nD:\\miniconda\\lib\\site-packages\\numpy\\.libs\\libopenblas.JPIJNSWNNAN3CE6LLI5FWSPHUT2VXMTH.gfortran-win_amd64.dll\nD:\\miniconda\\lib\\site-packages\\numpy\\.libs\\libopenblas.PYQHXLVVQ7VESDPUVUADXEVJOBGHJPAY.gfortran-win_amd64.dll\n  warnings.warn(\"loaded more than 1 DLL from .libs:\"\n"
     ]
    }
   ],
   "source": [
    "from ipywidgets import interact, IntSlider, IntRangeSlider, Play, Dropdown, fixed\n",
    "import tifffile\n",
    "\n",
    "from pathlib import Path\n",
    "import numpy as np\n",
    "\n",
    "# See install instructions, warnings at https://pypi.org/project/opencv-python/\n",
    "import cv2  # if there's an ImportError: \"pip install opencv-python\" "
   ]
  },
  {
   "source": [
    "## Load Data"
   ],
   "cell_type": "markdown",
   "metadata": {}
  },
  {
   "cell_type": "code",
   "execution_count": 2,
   "metadata": {},
   "outputs": [
    {
     "output_type": "execute_result",
     "data": {
      "text/plain": [
       "(2250, 498, 467)"
      ]
     },
     "metadata": {},
     "execution_count": 2
    }
   ],
   "source": [
    "files = Path(\"../../data/raw\").glob(\"*.tif\")\n",
    "tiffs = tifffile.TiffSequence(files)\n",
    "mov = tiffs.asarray()\n",
    "mov.shape"
   ]
  },
  {
   "source": [
    "## Create Window\n",
    "\n",
    "**Note**: To close the window, run the code under **Close Window** below.  Don't hit the X button!"
   ],
   "cell_type": "markdown",
   "metadata": {}
  },
  {
   "cell_type": "code",
   "execution_count": 3,
   "metadata": {},
   "outputs": [],
   "source": [
    "window = cv2.namedWindow('img', cv2.WINDOW_NORMAL)"
   ]
  },
  {
   "cell_type": "code",
   "execution_count": 4,
   "metadata": {},
   "outputs": [
    {
     "output_type": "display_data",
     "data": {
      "text/plain": "interactive(children=(Play(value=0, description='idx', interval=50, max=2249), IntRangeSlider(value=(0, 8192),…",
      "application/vnd.jupyter.widget-view+json": {
       "version_major": 2,
       "version_minor": 0,
       "model_id": "525d32c739a541868ea083f4742575b0"
      }
     },
     "metadata": {}
    }
   ],
   "source": [
    "@interact(\n",
    "    idx=Play(value=0, min=0, max=len(mov) - 1, step=1, interval=50), \n",
    "    clim=IntRangeSlider(value=[0, mov.max()], min=0, max=mov.max()),\n",
    "    x=IntRangeSlider(value=[0, mov.shape[2] - 1], min=0, max=mov.shape[2] - 1),\n",
    "    y=IntRangeSlider(value=[0, mov.shape[1] - 1], min=0, max=mov.shape[1] - 1),\n",
    ")\n",
    "def show_frame(idx, clim, x, y):\n",
    "    cmin, cmax = clim\n",
    "    width, height = 10, 10\n",
    "    frame = mov[idx, y[0]:y[1], x[0]:x[1]]\n",
    "    clipped_frame = np.clip(frame, a_min=cmin, a_max=cmax)\n",
    "    clipped_frame = (clipped_frame - cmin) / clipped_frame.max()\n",
    "    cv2.imshow(\"img\", (clipped_frame * 255).astype(np.uint8))\n",
    "    cv2.waitKey(1)"
   ]
  },
  {
   "source": [
    "## Close Window"
   ],
   "cell_type": "markdown",
   "metadata": {}
  },
  {
   "source": [
    "cv2.destroyWindow(\"img\")"
   ],
   "cell_type": "code",
   "metadata": {},
   "execution_count": 6,
   "outputs": []
  },
  {
   "cell_type": "code",
   "execution_count": null,
   "metadata": {},
   "outputs": [],
   "source": []
  }
 ]
}