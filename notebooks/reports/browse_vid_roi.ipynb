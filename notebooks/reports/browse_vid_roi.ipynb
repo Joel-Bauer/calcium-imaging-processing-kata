{
 "metadata": {
  "language_info": {
   "codemirror_mode": {
    "name": "ipython",
    "version": 3
   },
   "file_extension": ".py",
   "mimetype": "text/x-python",
   "name": "python",
   "nbconvert_exporter": "python",
   "pygments_lexer": "ipython3",
   "version": "3.8.3-final"
  },
  "orig_nbformat": 2,
  "kernelspec": {
   "name": "python3",
   "display_name": "Python 3",
   "language": "python"
  }
 },
 "nbformat": 4,
 "nbformat_minor": 2,
 "cells": [
  {
   "cell_type": "code",
   "execution_count": 8,
   "metadata": {},
   "outputs": [],
   "source": [
    "from ipywidgets import interact, IntSlider, IntRangeSlider, Play\n",
    "import tifffile\n",
    "import matplotlib.pyplot as plt\n",
    "import matplotlib.patches as patches\n",
    "\n",
    "from pathlib import Path\n",
    "import numpy as np"
   ]
  },
  {
   "source": [
    "## Load Data"
   ],
   "cell_type": "markdown",
   "metadata": {}
  },
  {
   "cell_type": "code",
   "execution_count": 3,
   "metadata": {},
   "outputs": [
    {
     "output_type": "execute_result",
     "data": {
      "text/plain": [
       "(2250, 498, 467)"
      ]
     },
     "metadata": {},
     "execution_count": 3
    }
   ],
   "source": [
    "files = Path(\"../../data/raw\").glob(\"*.tif\")\n",
    "tiffs = tifffile.TiffSequence(files)\n",
    "mov = tiffs.asarray()\n",
    "mov.shape"
   ]
  },
  {
   "source": [
    "## Image Browser"
   ],
   "cell_type": "markdown",
   "metadata": {}
  },
  {
   "cell_type": "code",
   "execution_count": 7,
   "metadata": {},
   "outputs": [
    {
     "output_type": "display_data",
     "data": {
      "text/plain": "interactive(children=(Play(value=0, description='idx', interval=50, max=2249), IntRangeSlider(value=(0, 8192),…",
      "application/vnd.jupyter.widget-view+json": {
       "version_major": 2,
       "version_minor": 0,
       "model_id": "367239ffe5124467b516dd2dbb4c8b3b"
      }
     },
     "metadata": {}
    }
   ],
   "source": [
    "@interact(\n",
    "    idx=Play(value=0, min=0, max=len(mov) - 1, step=1, interval=50), \n",
    "    clim=IntRangeSlider(value=[0, mov.max()], min=0, max=mov.max()),\n",
    "    x=IntSlider(value=20, min=0, max=mov.shape[2] - 11),\n",
    "    y=IntSlider(value=20, min=0, max=mov.shape[1] - 11),\n",
    ")\n",
    "def show_frame(idx, clim, x, y):\n",
    "    cmin, cmax = clim\n",
    "    fig, (ax1, ax2) = plt.subplots(ncols=2)\n",
    "    ax1.imshow(mov[idx], vmin=cmin, vmax=cmax);\n",
    "    width, height = 20, 20\n",
    "    rect = patches.Rectangle((x, y), width, height, facecolor='none', linewidth=1, edgecolor='r')\n",
    "    ax1.add_patch(rect)\n",
    "    roi = mov[:, y - height // 2 : y + height // 2, x - width // 2 : x + width // 2]\n",
    "    ax2.plot(roi.mean(axis=1).mean(axis=1))\n",
    "    ax2.vlines([idx], *ax2.get_ylim(), color='red', linewidth=1, linestyle='dotted')"
   ]
  }
 ]
}