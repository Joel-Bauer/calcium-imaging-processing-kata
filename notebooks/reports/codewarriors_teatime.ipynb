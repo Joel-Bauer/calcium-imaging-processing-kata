{
 "metadata": {
  "language_info": {
   "codemirror_mode": {
    "name": "ipython",
    "version": 3
   },
   "file_extension": ".py",
   "mimetype": "text/x-python",
   "name": "python",
   "nbconvert_exporter": "python",
   "pygments_lexer": "ipython3",
   "version": "3.8.5-final"
  },
  "orig_nbformat": 2,
  "kernelspec": {
   "name": "python3",
   "display_name": "Python 3.8.5 64-bit (conda)",
   "metadata": {
    "interpreter": {
     "hash": "5a8381aea68d868df3ad03e3e482eef5c783f55fe1a04bac2c835650bbbc9e19"
    }
   }
  }
 },
 "nbformat": 4,
 "nbformat_minor": 2,
 "cells": [
  {
   "cell_type": "code",
   "execution_count": 1,
   "metadata": {},
   "outputs": [],
   "source": [
    "from ipywidgets import IntSlider, interact, fixed, Dropdown\n",
    "import ipywidgets as widgets\n",
    "import numpy as np\n",
    "import matplotlib.pyplot as plt\n",
    "import tifffile #use tifffile.Tiffsequence().asarray()\n",
    "from pathlib import Path"
   ]
  },
  {
   "cell_type": "code",
   "execution_count": 2,
   "metadata": {},
   "outputs": [],
   "source": [
    "datapath = list(Path('../../data/raw').iterdir())\n"
   ]
  },
  {
   "cell_type": "code",
   "execution_count": 3,
   "metadata": {},
   "outputs": [],
   "source": [
    "def load_data(path):\n",
    "    data = tifffile.TiffSequence(path).asarray()\n",
    "\n",
    "    @interact(\n",
    "        #mov = fixed(mov)\n",
    "        idx = IntSlider(value=0,min=0,max=data.shape[0]-1,continuous_frames =False)\n",
    "    )\n",
    "    def show(idx):\n",
    "        plt.imshow(data[idx,:,:])"
   ]
  },
  {
   "cell_type": "code",
   "execution_count": 4,
   "metadata": {},
   "outputs": [
    {
     "output_type": "display_data",
     "data": {
      "text/plain": "interactive(children=(IntSlider(value=0, description='idx', max=2249), Output()), _dom_classes=('widget-intera…",
      "application/vnd.jupyter.widget-view+json": {
       "version_major": 2,
       "version_minor": 0,
       "model_id": "b0e1dd5516014d1a9f8b95aa0361b061"
      }
     },
     "metadata": {}
    }
   ],
   "source": [
    "load_data(datapath)"
   ]
  },
  {
   "source": [
    "## summarizing data\n",
    "- max projection\n",
    "- mean\n",
    "..."
   ],
   "cell_type": "markdown",
   "metadata": {}
  },
  {
   "cell_type": "code",
   "execution_count": 5,
   "metadata": {},
   "outputs": [],
   "source": [
    "\n",
    "def summarize(path):\n",
    "    data = tifffile.TiffSequence(path).asarray()\n",
    "    @interact(\n",
    "        method = ['mean', 'max', 'sum']\n",
    "    )\n",
    "    def show(method):\n",
    "        if method == 'mean':\n",
    "            plt.imshow(np.mean(data,axis =0))\n",
    "        elif method == 'sum':\n",
    "            plt.imshow(data.sum(axis=0))\n",
    "        elif method == 'max':\n",
    "            plt.imshow(np.max(data, axis=0))\n"
   ]
  },
  {
   "cell_type": "code",
   "execution_count": 6,
   "metadata": {},
   "outputs": [
    {
     "output_type": "display_data",
     "data": {
      "text/plain": "interactive(children=(Dropdown(description='method', options=('mean', 'max', 'sum'), value='mean'), Output()),…",
      "application/vnd.jupyter.widget-view+json": {
       "version_major": 2,
       "version_minor": 0,
       "model_id": "08acd64be57241379911dd256c3d1f5c"
      }
     },
     "metadata": {}
    }
   ],
   "source": [
    "summarize(datapath)"
   ]
  },
  {
   "source": [
    "## Ideas for the afternoon\n",
    " - changing the contrast or other image parameters\n",
    " - Pixelwise activity\n"
   ],
   "cell_type": "markdown",
   "metadata": {}
  },
  {
   "source": [
    "## play the movie"
   ],
   "cell_type": "markdown",
   "metadata": {}
  },
  {
   "cell_type": "code",
   "execution_count": 7,
   "metadata": {},
   "outputs": [],
   "source": [
    "def load_data(path):\n",
    "    data = tifffile.TiffSequence(path).asarray()\n",
    "    return data\n",
    "\n",
    "data = load_data(datapath)"
   ]
  },
  {
   "cell_type": "code",
   "execution_count": 8,
   "metadata": {},
   "outputs": [],
   "source": [
    "def show(idx):\n",
    "    plt.imshow(data[idx,:,:])"
   ]
  },
  {
   "cell_type": "code",
   "execution_count": 9,
   "metadata": {},
   "outputs": [
    {
     "output_type": "display_data",
     "data": {
      "text/plain": "interactive(children=(Play(value=0, description='Press play', max=2249), Output()), _dom_classes=('widget-inte…",
      "application/vnd.jupyter.widget-view+json": {
       "version_major": 2,
       "version_minor": 0,
       "model_id": "8ea085891b8343c8bf1678cbb6300f5f"
      }
     },
     "metadata": {}
    },
    {
     "output_type": "execute_result",
     "data": {
      "text/plain": [
       "<function __main__.show(idx)>"
      ]
     },
     "metadata": {},
     "execution_count": 9
    }
   ],
   "source": [
    "interact(show,\n",
    "    idx = widgets.Play(\n",
    "        value = 0,\n",
    "        min = 0,\n",
    "        max = data.shape[0]-1,\n",
    "        step = 1,\n",
    "        description=\"Press play\",\n",
    "        disabled=False)\n",
    "    )"
   ]
  },
  {
   "cell_type": "code",
   "execution_count": 10,
   "metadata": {},
   "outputs": [
    {
     "output_type": "display_data",
     "data": {
      "text/plain": "HBox(children=(Play(value=50, description='Press play'), IntSlider(value=0)))",
      "application/vnd.jupyter.widget-view+json": {
       "version_major": 2,
       "version_minor": 0,
       "model_id": "930252e0bfb441efad6b5360b0da11d7"
      }
     },
     "metadata": {}
    }
   ],
   "source": [
    "play = widgets.Play(\n",
    "#     interval=10,\n",
    "    value=50,\n",
    "    min=0,\n",
    "    max=100,\n",
    "    step=1,\n",
    "    description=\"Press play\",\n",
    "    disabled=False\n",
    ")\n",
    "slider = widgets.IntSlider()\n",
    "widgets.jslink((play, 'value'), (slider, 'value'))\n",
    "widgets.HBox([play, slider])"
   ]
  },
  {
   "cell_type": "code",
   "execution_count": 11,
   "metadata": {},
   "outputs": [
    {
     "output_type": "display_data",
     "data": {
      "text/plain": "Link(source=(Play(value=0, description='Press play', max=2249), 'value'), target=(IntSlider(value=0, max=2249)…"
     },
     "metadata": {}
    },
    {
     "output_type": "display_data",
     "data": {
      "text/plain": "HBox(children=(Play(value=0, description='Press play', max=2249), IntSlider(value=0, max=2249)))",
      "application/vnd.jupyter.widget-view+json": {
       "version_major": 2,
       "version_minor": 0,
       "model_id": "89df6b8bf5814df28eae1d236de78f77"
      }
     },
     "metadata": {}
    },
    {
     "output_type": "display_data",
     "data": {
      "text/plain": "Output()",
      "application/vnd.jupyter.widget-view+json": {
       "version_major": 2,
       "version_minor": 0,
       "model_id": "652c93e3b01b46cc8154a754bb293f5e"
      }
     },
     "metadata": {}
    }
   ],
   "source": [
    "play = widgets.Play(\n",
    "    value=0,\n",
    "    min=0,\n",
    "    max=data.shape[0]-1,\n",
    "    step=1,\n",
    "    description=\"Press play\",\n",
    "    disabled=False\n",
    ")\n",
    "slider = widgets.IntSlider(value=0,min=0,max=data.shape[0]-1,continuous_frames =False)\n",
    "ui = widgets.jslink((play, 'value'), (slider, 'value'))\n",
    "x = widgets.HBox([play, slider])\n",
    "def f(slider, play):\n",
    "    plt.imshow((data[play,:,:]))\n",
    "\n",
    "out = widgets.interactive_output(f, {'slider': slider, 'play': play})\n",
    "\n",
    "display(ui, x, out)\n"
   ]
  }
 ]
}