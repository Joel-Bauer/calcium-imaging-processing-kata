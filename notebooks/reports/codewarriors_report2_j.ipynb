{
 "metadata": {
  "language_info": {
   "codemirror_mode": {
    "name": "ipython",
    "version": 3
   },
   "file_extension": ".py",
   "mimetype": "text/x-python",
   "name": "python",
   "nbconvert_exporter": "python",
   "pygments_lexer": "ipython3",
   "version": "3.9.2-final"
  },
  "orig_nbformat": 2,
  "kernelspec": {
   "name": "python3",
   "display_name": "Python 3",
   "language": "python"
  }
 },
 "nbformat": 4,
 "nbformat_minor": 2,
 "cells": [
  {
   "source": [
    "# Visualizing time series data"
   ],
   "cell_type": "markdown",
   "metadata": {}
  },
  {
   "source": [
    "This notebook provides the following methods for data visualization:\n",
    "- Plotting time series\n",
    "- Projecting time series as 2D (based on mean, max, sum)\n",
    "- Reslice data based on the X_axis\n",
    "- Clipping pixel values based on min & max quantile_thresholds\n",
    "- Apply binary threshold mask\n",
    "- Cropping data in x and y"
   ],
   "cell_type": "markdown",
   "metadata": {}
  },
  {
   "cell_type": "code",
   "execution_count": 1,
   "metadata": {},
   "outputs": [],
   "source": [
    "from ipywidgets import IntSlider, interact, fixed, Dropdown, FloatRangeSlider, FloatText, IntRangeSlider\n",
    "import numpy as np\n",
    "import matplotlib.pyplot as plt\n",
    "import tifffile \n",
    "from pathlib import Path"
   ]
  },
  {
   "source": [
    "### 0_Define data path"
   ],
   "cell_type": "markdown",
   "metadata": {}
  },
  {
   "cell_type": "code",
   "execution_count": 2,
   "metadata": {},
   "outputs": [],
   "source": [
    "datapath = list(Path('../../data/raw').iterdir())\n"
   ]
  },
  {
   "source": [
    "### 1_Loading and plotting time series"
   ],
   "cell_type": "markdown",
   "metadata": {}
  },
  {
   "cell_type": "code",
   "execution_count": 3,
   "metadata": {},
   "outputs": [],
   "source": [
    "def load_data(path):\n",
    "    data = tifffile.TiffSequence(path).asarray()\n",
    "\n",
    "    @interact(\n",
    "        idx = IntSlider(value=0,min=0,max=data.shape[0]-1,continuous_frames =False)\n",
    "    )\n",
    "    def show(idx):\n",
    "        plt.imshow(data[idx,:,:])"
   ]
  },
  {
   "cell_type": "code",
   "execution_count": 4,
   "metadata": {},
   "outputs": [
    {
     "output_type": "display_data",
     "data": {
      "text/plain": "interactive(children=(IntSlider(value=0, description='idx', max=2249), Output()), _dom_classes=('widget-intera…",
      "application/vnd.jupyter.widget-view+json": {
       "version_major": 2,
       "version_minor": 0,
       "model_id": "65ff023b8c664eba90dec2d36312c575"
      }
     },
     "metadata": {}
    }
   ],
   "source": [
    "load_data(datapath)"
   ]
  },
  {
   "source": [
    "### 2_Projecting time series as 2D\n",
    "based on:\n",
    "- max \n",
    "- mean\n",
    "- sum"
   ],
   "cell_type": "markdown",
   "metadata": {}
  },
  {
   "cell_type": "code",
   "execution_count": 5,
   "metadata": {},
   "outputs": [],
   "source": [
    "\n",
    "def summarize(path):\n",
    "    data = tifffile.TiffSequence(path).asarray()\n",
    "    @interact(\n",
    "        method = ['mean', 'max', 'sum']\n",
    "    )\n",
    "    def show(method):\n",
    "        if method == 'mean':\n",
    "            plt.imshow(np.mean(data,axis =0))\n",
    "        elif method == 'sum':\n",
    "            plt.imshow(data.sum(axis=0))\n",
    "        elif method == 'max':\n",
    "            plt.imshow(np.max(data, axis=0))\n"
   ]
  },
  {
   "cell_type": "code",
   "execution_count": 6,
   "metadata": {},
   "outputs": [
    {
     "output_type": "display_data",
     "data": {
      "text/plain": "interactive(children=(Dropdown(description='method', options=('mean', 'max', 'sum'), value='mean'), Output()),…",
      "application/vnd.jupyter.widget-view+json": {
       "version_major": 2,
       "version_minor": 0,
       "model_id": "0afbff57a8574efc998a586b8d4867ae"
      }
     },
     "metadata": {}
    }
   ],
   "source": [
    "summarize(datapath)"
   ]
  },
  {
   "source": [
    "### 3_reslice data based on the X_axis"
   ],
   "cell_type": "markdown",
   "metadata": {}
  },
  {
   "cell_type": "code",
   "execution_count": 7,
   "metadata": {},
   "outputs": [],
   "source": [
    "def re_slice(path):\n",
    "    data = tifffile.TiffSequence(path).asarray()\n",
    "\n",
    "    @interact(\n",
    "        idx = IntSlider(value=0,min=0,max=data.shape[1]-1,continuous_frames =False)\n",
    "    )\n",
    "    def show(idx):\n",
    "        plt.imshow(data[:,idx,:])"
   ]
  },
  {
   "cell_type": "code",
   "execution_count": 8,
   "metadata": {},
   "outputs": [
    {
     "output_type": "display_data",
     "data": {
      "text/plain": "interactive(children=(IntSlider(value=0, description='idx', max=497), Output()), _dom_classes=('widget-interac…",
      "application/vnd.jupyter.widget-view+json": {
       "version_major": 2,
       "version_minor": 0,
       "model_id": "da522899827f42519c0fdef4354bd7b1"
      }
     },
     "metadata": {}
    }
   ],
   "source": [
    "re_slice(datapath)"
   ]
  },
  {
   "source": [
    "### NOTE: from here on we loaded the data first and then ran the other functions"
   ],
   "cell_type": "markdown",
   "metadata": {}
  },
  {
   "cell_type": "code",
   "execution_count": 9,
   "metadata": {},
   "outputs": [],
   "source": [
    "def load_data_only(path):\n",
    "    data = tifffile.TiffSequence(path).asarray()\n",
    "    return data\n",
    "test_data  = load_data_only(datapath)"
   ]
  },
  {
   "source": [
    "### 4_Clipping pixel values based on min max thresholds"
   ],
   "cell_type": "markdown",
   "metadata": {}
  },
  {
   "cell_type": "code",
   "execution_count": 10,
   "metadata": {},
   "outputs": [
    {
     "output_type": "display_data",
     "data": {
      "text/plain": "interactive(children=(FloatRangeSlider(value=(0.1, 0.9), description='value', max=1.0, readout_format='.1f'), …",
      "application/vnd.jupyter.widget-view+json": {
       "version_major": 2,
       "version_minor": 0,
       "model_id": "3f07388d00544d00b614ce9e77174050"
      }
     },
     "metadata": {}
    }
   ],
   "source": [
    "@interact(\n",
    "    value = FloatRangeSlider(\n",
    "                value=[0.1, 0.9],\n",
    "                min=0,\n",
    "                max=1,\n",
    "                step=0.1,\n",
    "                orientation='horizontal',\n",
    "                readout=True,\n",
    "                readout_format='.1f',\n",
    "))\n",
    "def data_remove_background(value):\n",
    "    lower_limit = np.quantile(test_data, value[0])\n",
    "    upper_limit = np.quantile(test_data, value[1])\n",
    "    new_data = test_data.copy()\n",
    "    new_data[new_data < lower_limit] = 0\n",
    "    new_data[new_data > upper_limit] = upper_limit\n",
    "    @interact(\n",
    "    idx = IntSlider(value=0,min=0,max=new_data.shape[0]-1,continuous_frames =False)\n",
    "    )\n",
    "    def show(idx):\n",
    "        plt.imshow(new_data[idx,:,:])\n",
    "    "
   ]
  },
  {
   "source": [
    "### 5_Apply binary threshold mask"
   ],
   "cell_type": "markdown",
   "metadata": {}
  },
  {
   "cell_type": "code",
   "execution_count": 11,
   "metadata": {},
   "outputs": [
    {
     "output_type": "display_data",
     "data": {
      "text/plain": "interactive(children=(FloatText(value=0.5, description='value', step=0.1), Output()), _dom_classes=('widget-in…",
      "application/vnd.jupyter.widget-view+json": {
       "version_major": 2,
       "version_minor": 0,
       "model_id": "3b8bdfad673d48a38cf6aef94368f668"
      }
     },
     "metadata": {}
    }
   ],
   "source": [
    "@interact(\n",
    "    value = FloatText(\n",
    "                value=0.5,\n",
    "                min=0,\n",
    "                max=1,\n",
    "                step=0.1,\n",
    "                orientation='horizontal',\n",
    "                readout=True,\n",
    "                readout_format='.1f',\n",
    "))\n",
    "def data_threshold(value):\n",
    "    limit = np.quantile(test_data, value)\n",
    "    new_data = np.where(test_data > limit, 1, 0)\n",
    "    @interact(\n",
    "    idx = IntSlider(value=0,min=0,max=new_data.shape[0]-1,continuous_frames =False)\n",
    "    )\n",
    "    def show(idx):\n",
    "        plt.imshow(new_data[idx,:,:], cmap='gray')"
   ]
  },
  {
   "source": [
    "### 6_Cropping data in x and y"
   ],
   "cell_type": "markdown",
   "metadata": {}
  },
  {
   "cell_type": "code",
   "execution_count": 12,
   "metadata": {},
   "outputs": [
    {
     "output_type": "display_data",
     "data": {
      "text/plain": "interactive(children=(IntRangeSlider(value=(150, 350), continuous_update=False, description='x_slice', max=497…",
      "application/vnd.jupyter.widget-view+json": {
       "version_major": 2,
       "version_minor": 0,
       "model_id": "28663c46e94d4cddb08f6a1f2760473c"
      }
     },
     "metadata": {}
    }
   ],
   "source": [
    "@interact(\n",
    "    x_slice = IntRangeSlider(\n",
    "                value=[150, 350],\n",
    "                min=0,\n",
    "                max=test_data.shape[1] - 1,\n",
    "                step=1,\n",
    "                orientation='horizontal',\n",
    "                readout=True,\n",
    "                readout_format='.0f',\n",
    "                continuous_update =False,\n",
    "), \n",
    "    y_slice = IntRangeSlider(\n",
    "                value=[150, 350],\n",
    "                min=0,\n",
    "                max=test_data.shape[2] - 1,\n",
    "                step=1,\n",
    "                orientation='horizontal',\n",
    "                readout=True,\n",
    "                readout_format='.0f',   \n",
    "                continuous_update =False,\n",
    "))\n",
    "def slice_data(x_slice, y_slice):\n",
    "    new_data = test_data[:, x_slice[0]:x_slice[1], y_slice[0]:y_slice[1]]\n",
    "    \n",
    "    @interact(\n",
    "    idx = IntSlider(value=0,min=0,max=new_data.shape[0]-1,continuous_update =True),\n",
    "    )\n",
    "    def show(idx):\n",
    "        plt.imshow(new_data[idx,:,:])\n",
    "        plt.tight_layout()"
   ]
  }
 ]
}